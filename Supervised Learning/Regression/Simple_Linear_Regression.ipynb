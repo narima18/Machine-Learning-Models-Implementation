{
  "cells": [
    {
      "cell_type": "markdown",
      "source": [
        "**The dataset**\n",
        "$$(X,Y)$$\n",
        " $m$ is the number of training examples in the dataset\n",
        "\n",
        "**The model**\n",
        "$$F(X)=Xθ$$\n",
        "$$θ = (w,b)^T$$\n",
        "Don't forget to add a vector of ones to X\n",
        "\n",
        "**The cost function**\n",
        "$$J(θ)=\\frac{1}{2m}\\sum\\limits_{i = 1}^{m} (Xθ-Y)^{2}$$\n",
        "\n",
        "**Gradient**\n",
        "$$∇J(θ)=\\frac{1}{m}X^T(Xθ-Y)$$\n",
        "\n",
        "**Gradient descent**\n",
        "$$θ ← θ-α∇J(θ)$$\n",
        "\n",
        "We will fit the linear regression parameters  (w,b)  to our dataset."
      ],
      "metadata": {
        "id": "KUarh4n2LKyO"
      }
    },
    {
      "cell_type": "markdown",
      "source": [
        "**Import packages**"
      ],
      "metadata": {
        "id": "rXGdSv1vIpk7"
      }
    },
    {
      "cell_type": "code",
      "source": [
        "import numpy as np\n",
        "import pandas as pd\n",
        "import matplotlib.pyplot as plt"
      ],
      "metadata": {
        "id": "B1_C051sM8rq"
      },
      "execution_count": 1,
      "outputs": []
    },
    {
      "cell_type": "markdown",
      "source": [
        "**Dataset**"
      ],
      "metadata": {
        "id": "cH9o3KL3NaHh"
      }
    },
    {
      "cell_type": "code",
      "source": [
        "# generate a random dataset\n",
        "np.random.seed(0)\n",
        "X = np.random.rand(100, 1)\n",
        "Y = 2 + 3 * X + np.random.rand(100, 1)\n",
        "# initialize the model parameters\n",
        "T = np.random.randn(2, 1)"
      ],
      "metadata": {
        "id": "q_RZ1iXBNLsm"
      },
      "execution_count": 2,
      "outputs": []
    },
    {
      "cell_type": "markdown",
      "source": [
        "**Model**"
      ],
      "metadata": {
        "id": "UPgv2xeleH7L"
      }
    },
    {
      "cell_type": "code",
      "source": [
        "def model(X, T):\n",
        "  X = np.c_[X, np.ones(len(X))]\n",
        "  return np.dot(X,T)"
      ],
      "metadata": {
        "id": "AF_kPj4teHQx"
      },
      "execution_count": 3,
      "outputs": []
    },
    {
      "cell_type": "markdown",
      "source": [
        "**The cost function**"
      ],
      "metadata": {
        "id": "wVgKy72qe7-l"
      }
    },
    {
      "cell_type": "code",
      "source": [
        "def cost_function(X, Y, T):\n",
        "  return 1/(2*len(Y))*np.sum(model(X,T)-Y)**2"
      ],
      "metadata": {
        "id": "K36kTwAQfB8N"
      },
      "execution_count": 4,
      "outputs": []
    },
    {
      "cell_type": "markdown",
      "source": [
        "**The gradient**"
      ],
      "metadata": {
        "id": "4eFSLPsLfgIE"
      }
    },
    {
      "cell_type": "code",
      "source": [
        "def compute_gradient(X, Y, T):\n",
        "  return 1/len(Y)*np.dot(np.transpose(X), model(X,T)-Y)"
      ],
      "metadata": {
        "id": "QTL8MnyWgSLk"
      },
      "execution_count": 5,
      "outputs": []
    },
    {
      "cell_type": "markdown",
      "source": [
        "**The gradient descent**"
      ],
      "metadata": {
        "id": "_XDDpPakgRMX"
      }
    },
    {
      "cell_type": "code",
      "source": [
        "def gradient_descent(X, Y, T, learning_rate, num_iterations):\n",
        "  history = np.zeros(num_iterations)\n",
        "  for i in range(num_iterations):\n",
        "    T = T - learning_rate * compute_gradient(X,Y,T)\n",
        "    history = cost_function(X,Y,T)\n",
        "  return T , history"
      ],
      "metadata": {
        "id": "k8WkLIzdgsqf"
      },
      "execution_count": 6,
      "outputs": []
    },
    {
      "cell_type": "markdown",
      "source": [
        "**The plot function**"
      ],
      "metadata": {
        "id": "Ijm4lN1ohVXI"
      }
    },
    {
      "cell_type": "code",
      "source": [
        "def plot(X, Y, T):\n",
        "  plt.scatter(X, Y)\n",
        "  plt.plot(X, model(X, T), color='r')\n",
        "  plt.xlabel('X')\n",
        "  plt.ylabel('y')\n",
        "  plt.show()"
      ],
      "metadata": {
        "id": "kM2xiyOcYXsV"
      },
      "execution_count": 7,
      "outputs": []
    },
    {
      "cell_type": "markdown",
      "source": [
        "**Application**"
      ],
      "metadata": {
        "id": "IAcJTClLkWld"
      }
    },
    {
      "cell_type": "code",
      "source": [
        "# Plot before applying the learning algorithm\n",
        "plot(X, Y, T)"
      ],
      "metadata": {
        "colab": {
          "base_uri": "https://localhost:8080/",
          "height": 449
        },
        "id": "i9Oj4P2NhgCx",
        "outputId": "7c69e0f2-d2ab-40dd-da39-ee8aebaa5f52"
      },
      "execution_count": 8,
      "outputs": [
        {
          "output_type": "display_data",
          "data": {
            "text/plain": [
              "<Figure size 640x480 with 1 Axes>"
            ],
            "image/png": "[encoded data removed]"
          },
          "metadata": {}
        }
      ]
    },
    {
      "cell_type": "code",
      "source": [
        "# Define the hyperparameters\n",
        "learning_rate = 0.1\n",
        "num_iterations = 1000\n",
        "# Apply the descent gradient algorithm\n",
        "T,history = gradient_descent(X, Y, T, learning_rate, num_iterations)"
      ],
      "metadata": {
        "id": "Yo2jPo75bZ8C"
      },
      "execution_count": 9,
      "outputs": []
    },
    {
      "cell_type": "code",
      "source": [
        "# Plot after applying the learning algorithm\n",
        "plot(X,Y,T)"
      ],
      "metadata": {
        "colab": {
          "base_uri": "https://localhost:8080/",
          "height": 452
        },
        "id": "dpzs9XBeciG2",
        "outputId": "68cd778e-cdca-46cd-e6fa-4b4a4667af5e"
      },
      "execution_count": 10,
      "outputs": [
        {
          "output_type": "display_data",
          "data": {
            "text/plain": [
              "<Figure size 640x480 with 1 Axes>"
            ],
            "image/png": "[encoded data removed]"
          },
          "metadata": {}
        }
      ]
    },
    {
      "cell_type": "code",
      "source": [
        "#evaluate the performance of the model using RMSE and R-square metrics\n",
        "from sklearn.metrics import mean_squared_error, r2_score\n",
        "rmse = np.sqrt(mean_squared_error(model(X,T), Y))\n",
        "print(\"RMSE :\", rmse)\n",
        "r = r2_score(Y,model(X,T))\n",
        "print(\"R2 :\", r)"
      ],
      "metadata": {
        "colab": {
          "base_uri": "https://localhost:8080/"
        },
        "id": "MHYLWaPBmpwZ",
        "outputId": "38b0ec2b-16f2-4d36-a8cc-2658ae7d9753"
      },
      "execution_count": 11,
      "outputs": [
        {
          "output_type": "stream",
          "name": "stdout",
          "text": [
            "RMSE : 0.4652301652785166\n",
            "R2 : 0.7270580208528021\n"
          ]
        }
      ]
    }
  ],
  "metadata": {
    "colab": {
      "provenance": []
    },
    "kernelspec": {
      "display_name": "Python 3",
      "name": "python3"
    },
    "language_info": {
      "name": "python"
    }
  },
  "nbformat": 4,
  "nbformat_minor": 0
}
