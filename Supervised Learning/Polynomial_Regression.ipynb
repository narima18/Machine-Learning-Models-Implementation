{
  "cells": [
    {
      "cell_type": "markdown",
      "metadata": {
        "id": "KUarh4n2LKyO"
      },
      "source": [
        "**The dataset**\n",
        "$$(X,Y)$$\n",
        " $m$ is the number of training examples in the dataset\n",
        "\n",
        "**The model**\n",
        "$$F(X)=Xθ$$\n",
        "$$θ = (w,b)^T$$\n",
        "\n",
        "**The cost function**\n",
        "$$J(θ)=\\frac{1}{2m}\\sum\\limits_{i = 1}^{m} (Xθ-Y)^{2}$$\n",
        "\n",
        "**Gradient**\n",
        "$$∇J(θ)=\\frac{1}{m}X^T(Xθ-Y)$$\n",
        "\n",
        "**Gradient descent**\n",
        "$$θ ← θ-α∇J(θ)$$\n",
        "\n",
        "We will fit the polynomial regression parameters  (w,b)  to our dataset."
      ]
    },
    {
      "cell_type": "markdown",
      "metadata": {
        "id": "rXGdSv1vIpk7"
      },
      "source": [
        "**Import packages**"
      ]
    },
    {
      "cell_type": "code",
      "execution_count": 1,
      "metadata": {
        "id": "B1_C051sM8rq"
      },
      "outputs": [],
      "source": [
        "import numpy as np\n",
        "import pandas as pd\n",
        "import matplotlib.pyplot as plt\n",
        "from sklearn.datasets import make_regression"
      ]
    },
    {
      "cell_type": "markdown",
      "metadata": {
        "id": "cH9o3KL3NaHh"
      },
      "source": [
        "**Dataset**"
      ]
    },
    {
      "cell_type": "code",
      "execution_count": 2,
      "metadata": {
        "id": "q_RZ1iXBNLsm"
      },
      "outputs": [],
      "source": [
        "# generate a random dataset\n",
        "X, Y = make_regression(n_samples = 100, n_features = 1, noise = 5)\n",
        "Y = Y + abs(Y/2)\n",
        "# initialize the model parameters\n",
        "T = np.random.randn(3, 1)"
      ]
    },
    {
      "cell_type": "code",
      "execution_count": 3,
      "metadata": {
        "colab": {
          "base_uri": "https://localhost:8080/",
          "height": 499
        },
        "id": "6mKHwrEv0QXc",
        "outputId": "ac59432b-7868-41a0-f73f-8dcc98261ddf"
      },
      "outputs": [
        {
          "output_type": "stream",
          "name": "stdout",
          "text": [
            "(100, 1)\n",
            "(100, 1)\n",
            "(3, 1)\n"
          ]
        },
        {
          "output_type": "execute_result",
          "data": {
            "text/plain": [
              "<matplotlib.collections.PathCollection at 0x7f86c84b6970>"
            ]
          },
          "metadata": {},
          "execution_count": 3
        },
        {
          "output_type": "display_data",
          "data": {
            "text/plain": [
              "<Figure size 640x480 with 1 Axes>"
            ],
            "image/png": "[encoded data removed]"
          },
          "metadata": {}
        }
      ],
      "source": [
        "print(X.shape)\n",
        "Y = Y.reshape(100,1)\n",
        "print(Y.shape)\n",
        "print(T.shape)\n",
        "plt.scatter(X,Y)"
      ]
    },
    {
      "cell_type": "code",
      "execution_count": 4,
      "metadata": {
        "colab": {
          "base_uri": "https://localhost:8080/"
        },
        "id": "kBi2rK-uDGin",
        "outputId": "e89e0eb0-c614-4550-e694-d99344647720"
      },
      "outputs": [
        {
          "output_type": "execute_result",
          "data": {
            "text/plain": [
              "(100, 3)"
            ]
          },
          "metadata": {},
          "execution_count": 4
        }
      ],
      "source": [
        "X_ = np.hstack((X, np.ones(X.shape)))\n",
        "X_ = np.hstack((X**2, X_))\n",
        "X_.shape"
      ]
    },
    {
      "cell_type": "markdown",
      "metadata": {
        "id": "UPgv2xeleH7L"
      },
      "source": [
        "**Model**"
      ]
    },
    {
      "cell_type": "code",
      "execution_count": 5,
      "metadata": {
        "id": "AF_kPj4teHQx"
      },
      "outputs": [],
      "source": [
        "def model(X, T):\n",
        "  return np.dot(X,T)"
      ]
    },
    {
      "cell_type": "markdown",
      "metadata": {
        "id": "wVgKy72qe7-l"
      },
      "source": [
        "**The cost function**"
      ]
    },
    {
      "cell_type": "code",
      "execution_count": 6,
      "metadata": {
        "id": "K36kTwAQfB8N"
      },
      "outputs": [],
      "source": [
        "def cost_function(X, Y, T):\n",
        "  return 1/(2*len(Y))*np.sum(model(X,T)-Y)**2"
      ]
    },
    {
      "cell_type": "markdown",
      "metadata": {
        "id": "4eFSLPsLfgIE"
      },
      "source": [
        "**The gradient**"
      ]
    },
    {
      "cell_type": "code",
      "execution_count": 7,
      "metadata": {
        "id": "QTL8MnyWgSLk"
      },
      "outputs": [],
      "source": [
        "def compute_gradient(X, Y, T):\n",
        "  return 1/len(Y)*np.dot(np.transpose(X), model(X,T)-Y)"
      ]
    },
    {
      "cell_type": "markdown",
      "metadata": {
        "id": "_XDDpPakgRMX"
      },
      "source": [
        "**The gradient descent**"
      ]
    },
    {
      "cell_type": "code",
      "execution_count": 8,
      "metadata": {
        "id": "k8WkLIzdgsqf"
      },
      "outputs": [],
      "source": [
        "def gradient_descent(X, Y, T, learning_rate, num_iterations):\n",
        "  history = np.zeros(num_iterations)\n",
        "  for i in range(num_iterations):\n",
        "    T = T - learning_rate * compute_gradient(X,Y,T)\n",
        "    history = cost_function(X,Y,T)\n",
        "  return T , history"
      ]
    },
    {
      "cell_type": "markdown",
      "metadata": {
        "id": "Ijm4lN1ohVXI"
      },
      "source": [
        "**The plot function**"
      ]
    },
    {
      "cell_type": "code",
      "execution_count": 9,
      "metadata": {
        "id": "kM2xiyOcYXsV"
      },
      "outputs": [],
      "source": [
        "def plot(X, Y, T, Z):\n",
        "  plt.scatter(X, Y)\n",
        "  plt.scatter(X, model(Z, T), c = 'r')"
      ]
    },
    {
      "cell_type": "markdown",
      "metadata": {
        "id": "IAcJTClLkWld"
      },
      "source": [
        "**Application**"
      ]
    },
    {
      "cell_type": "code",
      "execution_count": 10,
      "metadata": {
        "colab": {
          "base_uri": "https://localhost:8080/",
          "height": 430
        },
        "id": "b3P34oXhPkON",
        "outputId": "d282db81-4b7b-42c7-9eaa-0cd0f47be2ad"
      },
      "outputs": [
        {
          "output_type": "display_data",
          "data": {
            "text/plain": [
              "<Figure size 640x480 with 1 Axes>"
            ],
            "image/png": "[encoded data removed]"
          },
          "metadata": {}
        }
      ],
      "source": [
        "# Plot before applying the learning algorithm\n",
        "plot(X,Y,T,X_)"
      ]
    },
    {
      "cell_type": "code",
      "execution_count": 11,
      "metadata": {
        "id": "Yo2jPo75bZ8C"
      },
      "outputs": [],
      "source": [
        "# Define the hyperparameters\n",
        "learning_rate = 0.1\n",
        "num_iterations = 1000\n",
        "# Apply the descent gradient algorithm\n",
        "T,history = gradient_descent(X_, Y, T, learning_rate, num_iterations)"
      ]
    },
    {
      "cell_type": "code",
      "execution_count": 12,
      "metadata": {
        "colab": {
          "base_uri": "https://localhost:8080/",
          "height": 430
        },
        "id": "UwLJ-SloTjVG",
        "outputId": "1ae3704c-b4e4-42c2-eec9-552983a1673a"
      },
      "outputs": [
        {
          "output_type": "display_data",
          "data": {
            "text/plain": [
              "<Figure size 640x480 with 1 Axes>"
            ],
            "image/png": "[encoded data removed]"
          },
          "metadata": {}
        }
      ],
      "source": [
        "# Plot after applying the learning algorithm\n",
        "plot(X,Y,T,X_)"
      ]
    },
    {
      "cell_type": "code",
      "execution_count": 13,
      "metadata": {
        "colab": {
          "base_uri": "https://localhost:8080/"
        },
        "id": "3A2e8C3Mo8mE",
        "outputId": "38ea9f15-c3b5-49b9-a87a-88adc9628d22"
      },
      "outputs": [
        {
          "output_type": "stream",
          "name": "stdout",
          "text": [
            "R2 : 0.981502849239648\n"
          ]
        }
      ],
      "source": [
        "#evaluate the performance of the model using R-square metric\n",
        "from sklearn.metrics import r2_score\n",
        "r = r2_score(Y,model(X_,T))\n",
        "print(\"R2 :\", r)"
      ]
    }
  ],
  "metadata": {
    "colab": {
      "provenance": []
    },
    "kernelspec": {
      "display_name": "Python 3",
      "name": "python3"
    },
    "language_info": {
      "name": "python"
    }
  },
  "nbformat": 4,
  "nbformat_minor": 0
}